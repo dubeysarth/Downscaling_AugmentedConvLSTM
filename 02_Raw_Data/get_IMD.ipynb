{
 "cells": [
  {
   "cell_type": "code",
   "execution_count": null,
   "metadata": {},
   "outputs": [],
   "source": [
    "import imdlib as imd"
   ]
  },
  {
   "cell_type": "code",
   "execution_count": null,
   "metadata": {},
   "outputs": [],
   "source": [
    "start_yr = 1901\n",
    "end_yr = 2018\n",
    "variable = 'rain' # other options are ('tmin'/ 'tmax')\n",
    "data = imd.get_data(variable, start_yr, end_yr, fn_format='yearwise')"
   ]
  },
  {
   "cell_type": "code",
   "execution_count": null,
   "metadata": {},
   "outputs": [],
   "source": [
    "data = imd.open_data(variable, start_yr, end_yr,'yearwise')"
   ]
  },
  {
   "cell_type": "code",
   "execution_count": null,
   "metadata": {},
   "outputs": [],
   "source": [
    "data.to_netcdf('IMD_Precipitation.nc')"
   ]
  },
  {
   "cell_type": "code",
   "execution_count": null,
   "metadata": {},
   "outputs": [],
   "source": [
    "!rm -r rain"
   ]
  }
 ],
 "metadata": {
  "interpreter": {
   "hash": "0bf124d3f2144ca771fea58794c19911578c0aa69cd020731ae59ba515795364"
  },
  "kernelspec": {
   "display_name": "Python 3.7.12 ('conda_tf')",
   "language": "python",
   "name": "python3"
  },
  "language_info": {
   "codemirror_mode": {
    "name": "ipython",
    "version": 3
   },
   "file_extension": ".py",
   "mimetype": "text/x-python",
   "name": "python",
   "nbconvert_exporter": "python",
   "pygments_lexer": "ipython3",
   "version": "3.7.12"
  },
  "orig_nbformat": 4
 },
 "nbformat": 4,
 "nbformat_minor": 2
}
