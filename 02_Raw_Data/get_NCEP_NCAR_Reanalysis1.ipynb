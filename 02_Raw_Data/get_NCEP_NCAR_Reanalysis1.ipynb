{
 "cells": [
  {
   "cell_type": "code",
   "execution_count": null,
   "metadata": {},
   "outputs": [],
   "source": [
    "import ftplib\n",
    "from ftplib import FTP\n",
    "import os\n",
    "import netCDF4 as nc\n",
    "from tqdm import tqdm\n",
    "import xarray as xr\n",
    "\n",
    "Ftp_Server_host = 'ftp2.psl.noaa.gov'\n",
    "ftp = FTP(Ftp_Server_host)\n",
    "ftp.login()\n",
    "Ftp_source_files_path = '/Datasets/ncep.reanalysis.dailyavgs/surface/' # '/Datasets/ncep.reanalysis.dailyavgs/pressure/'\n",
    "ftp.cwd(Ftp_source_files_path)\n",
    "files_list_main = ftp.nlst() # files_list = [x for x in ftp.nlst() if x.split('.')[0] == 'omega']\n",
    "print(len(files_list_main))\n",
    "\n",
    "for var_name in ['uwnd', 'vwnd', 'omega', 'rhum', 'pres']:\n",
    "    %mkdir Data\n",
    "    print(f\"***{var_name}***\")\n",
    "    files_list = [x for x in files_list_main if var_name in x]\n",
    "    for filename in tqdm(files_list):\n",
    "        ftp.retrbinary(\"RETR \" + filename, open(os.path.join(os.getcwd(), 'Data', filename), 'wb').write)\n",
    "    if var_name != 'pres':\n",
    "        ds = xr.open_mfdataset(os.path.join(os.getcwd(), 'Data', f'{var_name}.sig995.*.nc'),combine = 'by_coords', concat_dim=\"time\")\n",
    "    else:\n",
    "        ds = xr.open_mfdataset(os.path.join(os.getcwd(), 'Data', f'{var_name}.sfc.*.nc'),combine = 'by_coords', concat_dim=\"time\")\n",
    "\n",
    "    ds.to_netcdf(f'{var_name}_combined.nc')\n",
    "    print(\"***Done***\")\n",
    "    %rm -r Data\n",
    "ftp.quit()"
   ]
  }
 ],
 "metadata": {
  "interpreter": {
   "hash": "0bf124d3f2144ca771fea58794c19911578c0aa69cd020731ae59ba515795364"
  },
  "kernelspec": {
   "display_name": "Python 3.7.12 ('conda_tf')",
   "language": "python",
   "name": "python3"
  },
  "language_info": {
   "codemirror_mode": {
    "name": "ipython",
    "version": 3
   },
   "file_extension": ".py",
   "mimetype": "text/x-python",
   "name": "python",
   "nbconvert_exporter": "python",
   "pygments_lexer": "ipython3",
   "version": "3.7.12"
  },
  "orig_nbformat": 4
 },
 "nbformat": 4,
 "nbformat_minor": 2
}
