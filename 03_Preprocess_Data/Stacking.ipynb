{
 "cells": [
  {
   "cell_type": "code",
   "execution_count": 1,
   "metadata": {},
   "outputs": [],
   "source": [
    "'''\n",
    "Low_pr\n",
    "Elevation\n",
    "rhum\n",
    "pres\n",
    "uwnd\n",
    "vwnd\n",
    "omega\n",
    "'''\n",
    "import netCDF4 as nc\n",
    "import pandas as pd\n",
    "import numpy as np\n",
    "import xarray as xr\n",
    "import xesmf as xe\n",
    "import cartopy.crs as ccrs\n",
    "import matplotlib.pyplot as plt\n",
    "import os"
   ]
  },
  {
   "cell_type": "code",
   "execution_count": 2,
   "metadata": {},
   "outputs": [
    {
     "name": "stdout",
     "output_type": "stream",
     "text": [
      "(7, 21170, 129, 135) (7, 20734, 129, 135)\n"
     ]
    }
   ],
   "source": [
    "# # 7,21170,129,135\n",
    "# X = np.empty((7,21170,129,135))\n",
    "\n",
    "# # 7,20734,129,135\n",
    "# X_360 = np.empty((7,20734,129,135))\n",
    "\n",
    "# print(X.shape, X_360.shape)"
   ]
  },
  {
   "cell_type": "code",
   "execution_count": 3,
   "metadata": {},
   "outputs": [],
   "source": [
    "CanESM2 = np.load(r\"/home/uditbhatia/Documents/Sarth/Downscaling_AugmentedConvLSTM/03_Preprocess_Data/npy_Files/CanESM2.npy\")\n",
    "MIROC_ESM = np.load(r\"/home/uditbhatia/Documents/Sarth/Downscaling_AugmentedConvLSTM/03_Preprocess_Data/npy_Files/MIROC-ESM.npy\")\n",
    "HadGEM2_ES = np.load(r\"/home/uditbhatia/Documents/Sarth/Downscaling_AugmentedConvLSTM/03_Preprocess_Data/npy_Files/HadGEM2-ES.npy\")\n",
    "GFDL_CM3 = np.load(r\"/home/uditbhatia/Documents/Sarth/Downscaling_AugmentedConvLSTM/03_Preprocess_Data/npy_Files/GFDL-CM3.npy\")\n",
    "\n",
    "SRTM = np.load(r\"/home/uditbhatia/Documents/Sarth/Downscaling_AugmentedConvLSTM/03_Preprocess_Data/npy_Files/SRTM.npy\")\n",
    "SRTM = SRTM.reshape(1,129,135)\n",
    "elevation = np.ones((21170,129,135))\n",
    "elevation = elevation*np.array(SRTM)\n",
    "elevation_360 = np.ones((20734,129,135))\n",
    "elevation_360 = elevation_360*np.array(SRTM)\n",
    "\n",
    "rhum = np.load(r\"/home/uditbhatia/Documents/Sarth/Downscaling_AugmentedConvLSTM/03_Preprocess_Data/npy_Files/rhum.npy\")\n",
    "pres = np.load(r\"/home/uditbhatia/Documents/Sarth/Downscaling_AugmentedConvLSTM/03_Preprocess_Data/npy_Files/pres.npy\")\n",
    "uwnd = np.load(r\"/home/uditbhatia/Documents/Sarth/Downscaling_AugmentedConvLSTM/03_Preprocess_Data/npy_Files/uwnd.npy\")\n",
    "vwnd = np.load(r\"/home/uditbhatia/Documents/Sarth/Downscaling_AugmentedConvLSTM/03_Preprocess_Data/npy_Files/vwnd.npy\")\n",
    "omega = np.load(r\"/home/uditbhatia/Documents/Sarth/Downscaling_AugmentedConvLSTM/03_Preprocess_Data/npy_Files/omega.npy\")\n",
    "\n",
    "rhum_360 = np.load(r\"/home/uditbhatia/Documents/Sarth/Downscaling_AugmentedConvLSTM/03_Preprocess_Data/npy_Files/rhum_360.npy\")\n",
    "pres_360 = np.load(r\"/home/uditbhatia/Documents/Sarth/Downscaling_AugmentedConvLSTM/03_Preprocess_Data/npy_Files/pres_360.npy\")\n",
    "uwnd_360 = np.load(r\"/home/uditbhatia/Documents/Sarth/Downscaling_AugmentedConvLSTM/03_Preprocess_Data/npy_Files/uwnd_360.npy\")\n",
    "vwnd_360 = np.load(r\"/home/uditbhatia/Documents/Sarth/Downscaling_AugmentedConvLSTM/03_Preprocess_Data/npy_Files/vwnd_360.npy\")\n",
    "omega_360 = np.load(r\"/home/uditbhatia/Documents/Sarth/Downscaling_AugmentedConvLSTM/03_Preprocess_Data/npy_Files/omega_360.npy\")"
   ]
  },
  {
   "cell_type": "code",
   "execution_count": 3,
   "metadata": {},
   "outputs": [],
   "source": [
    "X = np.empty((7,21170,129,135))"
   ]
  },
  {
   "cell_type": "code",
   "execution_count": 4,
   "metadata": {},
   "outputs": [
    {
     "data": {
      "text/plain": [
       "(7, 21170, 129, 135)"
      ]
     },
     "execution_count": 4,
     "metadata": {},
     "output_type": "execute_result"
    }
   ],
   "source": [
    "X[0,:,:,:] = np.array(CanESM2)\n",
    "X[1,:,:,:] = np.array(elevation)\n",
    "X[2,:,:,:] = np.array(rhum)\n",
    "X[3,:,:,:] = np.array(pres)\n",
    "X[4,:,:,:] = np.array(uwnd)\n",
    "X[5,:,:,:] = np.array(vwnd)\n",
    "X[6,:,:,:] = np.array(omega)\n",
    "X.shape"
   ]
  },
  {
   "cell_type": "code",
   "execution_count": 5,
   "metadata": {},
   "outputs": [],
   "source": [
    "np.save(\n",
    "    r\"/home/uditbhatia/Documents/Sarth/Downscaling_AugmentedConvLSTM/03_Preprocess_Data/Stacked/CanESM2.npy\", \n",
    "    X\n",
    "    )"
   ]
  },
  {
   "cell_type": "code",
   "execution_count": 6,
   "metadata": {},
   "outputs": [],
   "source": [
    "X = np.empty((7,21170,129,135))"
   ]
  },
  {
   "cell_type": "code",
   "execution_count": 7,
   "metadata": {},
   "outputs": [
    {
     "data": {
      "text/plain": [
       "(7, 21170, 129, 135)"
      ]
     },
     "execution_count": 7,
     "metadata": {},
     "output_type": "execute_result"
    }
   ],
   "source": [
    "X[0,:,:,:] = np.array(MIROC_ESM)\n",
    "X[1,:,:,:] = np.array(elevation)\n",
    "X[2,:,:,:] = np.array(rhum)\n",
    "X[3,:,:,:] = np.array(pres)\n",
    "X[4,:,:,:] = np.array(uwnd)\n",
    "X[5,:,:,:] = np.array(vwnd)\n",
    "X[6,:,:,:] = np.array(omega)\n",
    "X.shape"
   ]
  },
  {
   "cell_type": "code",
   "execution_count": 8,
   "metadata": {},
   "outputs": [],
   "source": [
    "np.save(\n",
    "    r\"/home/uditbhatia/Documents/Sarth/Downscaling_AugmentedConvLSTM/03_Preprocess_Data/Stacked/MIROC-ESM.npy\", \n",
    "    X\n",
    "    )"
   ]
  },
  {
   "cell_type": "code",
   "execution_count": 9,
   "metadata": {},
   "outputs": [],
   "source": [
    "X_360 = np.empty((7,20734,129,135))"
   ]
  },
  {
   "cell_type": "code",
   "execution_count": 10,
   "metadata": {},
   "outputs": [
    {
     "data": {
      "text/plain": [
       "(7, 20734, 129, 135)"
      ]
     },
     "execution_count": 10,
     "metadata": {},
     "output_type": "execute_result"
    }
   ],
   "source": [
    "X_360[0,:,:,:] = np.array(HadGEM2_ES)\n",
    "X_360[1,:,:,:] = np.array(elevation_360)\n",
    "X_360[2,:,:,:] = np.array(rhum_360)\n",
    "X_360[3,:,:,:] = np.array(pres_360)\n",
    "X_360[4,:,:,:] = np.array(uwnd_360)\n",
    "X_360[5,:,:,:] = np.array(vwnd_360)\n",
    "X_360[6,:,:,:] = np.array(omega_360)\n",
    "X_360.shape"
   ]
  },
  {
   "cell_type": "code",
   "execution_count": 11,
   "metadata": {},
   "outputs": [],
   "source": [
    "np.save(\n",
    "    r\"/home/uditbhatia/Documents/Sarth/Downscaling_AugmentedConvLSTM/03_Preprocess_Data/Stacked/HadGEM2-ES.npy\", \n",
    "    X_360\n",
    "    )"
   ]
  },
  {
   "cell_type": "code",
   "execution_count": 4,
   "metadata": {},
   "outputs": [],
   "source": [
    "X = np.empty((7,21170,129,135))"
   ]
  },
  {
   "cell_type": "code",
   "execution_count": 5,
   "metadata": {},
   "outputs": [
    {
     "data": {
      "text/plain": [
       "(7, 21170, 129, 135)"
      ]
     },
     "execution_count": 5,
     "metadata": {},
     "output_type": "execute_result"
    }
   ],
   "source": [
    "X[0,:,:,:] = np.array(GFDL_CM3)\n",
    "X[1,:,:,:] = np.array(elevation)\n",
    "X[2,:,:,:] = np.array(rhum)\n",
    "X[3,:,:,:] = np.array(pres)\n",
    "X[4,:,:,:] = np.array(uwnd)\n",
    "X[5,:,:,:] = np.array(vwnd)\n",
    "X[6,:,:,:] = np.array(omega)\n",
    "X.shape"
   ]
  },
  {
   "cell_type": "code",
   "execution_count": 6,
   "metadata": {},
   "outputs": [],
   "source": [
    "np.save(\n",
    "    r\"/home/uditbhatia/Documents/Sarth/Downscaling_AugmentedConvLSTM/03_Preprocess_Data/Stacked/GFDL-CM3.npy\", \n",
    "    X\n",
    "    )"
   ]
  },
  {
   "cell_type": "code",
   "execution_count": 2,
   "metadata": {},
   "outputs": [],
   "source": [
    "IMD = np.load(r\"/home/uditbhatia/Documents/Sarth/Downscaling_AugmentedConvLSTM/03_Preprocess_Data/npy_Files/IMD.npy\")\n",
    "IMD_360 = np.load(r\"/home/uditbhatia/Documents/Sarth/Downscaling_AugmentedConvLSTM/03_Preprocess_Data/npy_Files/IMD_360.npy\")"
   ]
  },
  {
   "cell_type": "code",
   "execution_count": 6,
   "metadata": {},
   "outputs": [],
   "source": [
    "Y = IMD.reshape(1,21170,129,135)\n",
    "Y_360 = IMD_360.reshape(1,20734,129,135)"
   ]
  },
  {
   "cell_type": "code",
   "execution_count": 8,
   "metadata": {},
   "outputs": [],
   "source": [
    "np.save(\n",
    "    r\"/home/uditbhatia/Documents/Sarth/Downscaling_AugmentedConvLSTM/03_Preprocess_Data/Stacked/Y.npy\", \n",
    "    Y\n",
    "    )\n",
    "np.save(\n",
    "    r\"/home/uditbhatia/Documents/Sarth/Downscaling_AugmentedConvLSTM/03_Preprocess_Data/Stacked/Y_360.npy\", \n",
    "    Y_360\n",
    "    )"
   ]
  }
 ],
 "metadata": {
  "interpreter": {
   "hash": "57de0e282794bf4d91710c07791d8cdf5fdb41e6873170f2da5a7dded10f15a1"
  },
  "kernelspec": {
   "display_name": "Python 3.7.12 ('conda_esmf')",
   "language": "python",
   "name": "python3"
  },
  "language_info": {
   "codemirror_mode": {
    "name": "ipython",
    "version": 3
   },
   "file_extension": ".py",
   "mimetype": "text/x-python",
   "name": "python",
   "nbconvert_exporter": "python",
   "pygments_lexer": "ipython3",
   "version": "3.7.12"
  },
  "orig_nbformat": 4
 },
 "nbformat": 4,
 "nbformat_minor": 2
}
