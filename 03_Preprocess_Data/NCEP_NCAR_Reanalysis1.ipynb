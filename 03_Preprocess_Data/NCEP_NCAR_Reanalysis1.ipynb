{
 "cells": [
  {
   "cell_type": "code",
   "execution_count": 1,
   "metadata": {},
   "outputs": [],
   "source": [
    "import netCDF4 as nc\n",
    "import pandas as pd\n",
    "import numpy as np\n",
    "import xarray as xr\n",
    "import xesmf as xe\n",
    "import cartopy.crs as ccrs\n",
    "import matplotlib.pyplot as plt\n",
    "import os"
   ]
  },
  {
   "cell_type": "code",
   "execution_count": 14,
   "metadata": {},
   "outputs": [],
   "source": [
    "def process(var_name):\n",
    "    filename = rf\"/home/uditbhatia/Documents/Sarth/Downscaling_AugmentedConvLSTM/02_Raw_Data/NCEP_NCAR_Reanalysis1/{var_name}_combined.nc\"\n",
    "    ds = xr.open_dataset(filename)\n",
    "    ds = ds.sel(time=((ds.time.dt.year >= 1948) & (ds.time.dt.year <= 2005)))\n",
    "    ds = ds.sel(time=~((ds.time.dt.month == 2) & (ds.time.dt.day == 29)))\n",
    "    ds = ds.sel(time=~((ds.time.dt.month == 2) & (ds.time.dt.day == 30)))\n",
    "    dr = ds[var_name]\n",
    "\n",
    "    lat_bnds, lon_bnds = [6.5, 38.5], [66.5, 100]\n",
    "    projection_dimension = [129, 135]\n",
    "    lat_lst = np.linspace(lat_bnds[0], lat_bnds[1], projection_dimension[0])\n",
    "    lon_lst = np.linspace(lon_bnds[0], lon_bnds[1], projection_dimension[1])\n",
    "\n",
    "    ds_out = xr.Dataset(\n",
    "        {\n",
    "            \"lat\": ([\"lat\"], lat_lst),\n",
    "            \"lon\": ([\"lon\"], lon_lst),\n",
    "        }\n",
    "    )\n",
    "\n",
    "    regridder = xe.Regridder(ds, ds_out, \"bilinear\")\n",
    "\n",
    "    dr_out = regridder(dr)\n",
    "\n",
    "    dr_np = dr_out.to_numpy()\n",
    "\n",
    "    np.save(\n",
    "        rf\"/home/uditbhatia/Documents/Sarth/Downscaling_AugmentedConvLSTM/03_Preprocess_Data/npy_Files/{var_name}.npy\", \n",
    "        dr_np\n",
    "        )"
   ]
  },
  {
   "cell_type": "code",
   "execution_count": 15,
   "metadata": {},
   "outputs": [
    {
     "name": "stdout",
     "output_type": "stream",
     "text": [
      "omega\n",
      "pres\n",
      "rhum\n",
      "uwnd\n",
      "vwnd\n"
     ]
    }
   ],
   "source": [
    "for var in ['omega','pres','rhum','uwnd','vwnd']:\n",
    "    process(var)\n",
    "    print(var)"
   ]
  },
  {
   "cell_type": "code",
   "execution_count": 22,
   "metadata": {},
   "outputs": [],
   "source": [
    "def process_360(var_name):\n",
    "    filename = rf\"/home/uditbhatia/Documents/Sarth/Downscaling_AugmentedConvLSTM/02_Raw_Data/NCEP_NCAR_Reanalysis1/{var_name}_combined.nc\"\n",
    "    ds = xr.open_dataset(filename)\n",
    "    ds = ds.sel(time=((ds.time.dt.year >= 1948) & (ds.time.dt.year <= 2005)))\n",
    "    ds = ds.sel(time=~((ds.time.dt.month == 2) & (ds.time.dt.day == 29)))\n",
    "    ds = ds.sel(time=~((ds.time.dt.month == 2) & (ds.time.dt.day == 30)))\n",
    "    ds = ds.sel(time=~((ds.time.dt.day == 31)))\n",
    "    ds = ds.sel(time=~((ds.time.dt.year == 2005) & (ds.time.dt.month == 12)))\n",
    "    dr = ds[var_name]\n",
    "\n",
    "    lat_bnds, lon_bnds = [6.5, 38.5], [66.5, 100]\n",
    "    projection_dimension = [129, 135]\n",
    "    lat_lst = np.linspace(lat_bnds[0], lat_bnds[1], projection_dimension[0])\n",
    "    lon_lst = np.linspace(lon_bnds[0], lon_bnds[1], projection_dimension[1])\n",
    "\n",
    "    ds_out = xr.Dataset(\n",
    "        {\n",
    "            \"lat\": ([\"lat\"], lat_lst),\n",
    "            \"lon\": ([\"lon\"], lon_lst),\n",
    "        }\n",
    "    )\n",
    "\n",
    "    regridder = xe.Regridder(ds, ds_out, \"bilinear\")\n",
    "\n",
    "    dr_out = regridder(dr)\n",
    "\n",
    "    dr_np = dr_out.to_numpy()\n",
    "    print(dr_np.shape)\n",
    "    np.save(\n",
    "        rf\"/home/uditbhatia/Documents/Sarth/Downscaling_AugmentedConvLSTM/03_Preprocess_Data/npy_Files/{var_name}_360.npy\", \n",
    "        dr_np\n",
    "        )"
   ]
  },
  {
   "cell_type": "code",
   "execution_count": 24,
   "metadata": {},
   "outputs": [
    {
     "name": "stdout",
     "output_type": "stream",
     "text": [
      "(20734, 129, 135)\n",
      "omega\n",
      "(20734, 129, 135)\n",
      "pres\n",
      "(20734, 129, 135)\n",
      "rhum\n",
      "(20734, 129, 135)\n",
      "uwnd\n",
      "(20734, 129, 135)\n",
      "vwnd\n"
     ]
    }
   ],
   "source": [
    "for var in ['omega','pres','rhum','uwnd','vwnd']:\n",
    "    process_360(var)\n",
    "    print(var)"
   ]
  }
 ],
 "metadata": {
  "interpreter": {
   "hash": "57de0e282794bf4d91710c07791d8cdf5fdb41e6873170f2da5a7dded10f15a1"
  },
  "kernelspec": {
   "display_name": "Python 3.7.12 ('conda_esmf')",
   "language": "python",
   "name": "python3"
  },
  "language_info": {
   "codemirror_mode": {
    "name": "ipython",
    "version": 3
   },
   "file_extension": ".py",
   "mimetype": "text/x-python",
   "name": "python",
   "nbconvert_exporter": "python",
   "pygments_lexer": "ipython3",
   "version": "3.7.12"
  },
  "orig_nbformat": 4
 },
 "nbformat": 4,
 "nbformat_minor": 2
}
