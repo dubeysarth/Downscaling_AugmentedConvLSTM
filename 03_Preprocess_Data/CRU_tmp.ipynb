{
 "cells": [
  {
   "cell_type": "code",
   "execution_count": 1,
   "metadata": {},
   "outputs": [],
   "source": [
    "import glob\n",
    "import netCDF4 as nc\n",
    "import pandas as pd\n",
    "import numpy as np\n",
    "import xarray as xr\n",
    "import xesmf as xe\n",
    "import cartopy.crs as ccrs\n",
    "import os"
   ]
  },
  {
   "cell_type": "code",
   "execution_count": 2,
   "metadata": {},
   "outputs": [
    {
     "name": "stdout",
     "output_type": "stream",
     "text": [
      "0.5 0.5\n",
      "51 111\n"
     ]
    }
   ],
   "source": [
    "lat_bnds, lon_bnds = [25, 50], [-125, -70]\n",
    "lat_lst = np.arange(lat_bnds[0], lat_bnds[1]+0.01, 0.5)\n",
    "lon_lst = np.arange(lon_bnds[0], lon_bnds[1]+0.01, 0.5)\n",
    "print(lat_lst[1]-lat_lst[0], lon_lst[1]-lon_lst[0])\n",
    "print(len(lat_lst), len(lon_lst))\n",
    "projection_dimension = [129, 135]"
   ]
  },
  {
   "cell_type": "markdown",
   "metadata": {},
   "source": [
    "# CRU .nc File"
   ]
  },
  {
   "cell_type": "code",
   "execution_count": 7,
   "metadata": {},
   "outputs": [
    {
     "name": "stdout",
     "output_type": "stream",
     "text": [
      "Frozen({'lon': 720, 'lat': 360, 'time': 840})\n",
      "Coordinates:\n",
      "  * lon      (lon) float64 -179.8 -179.2 -178.8 -178.2 ... 178.8 179.2 179.8\n",
      "  * lat      (lat) float64 -89.75 -89.25 -88.75 -88.25 ... 88.75 89.25 89.75\n",
      "  * time     (time) datetime64[ns] 1941-01-16 1941-02-15 ... 2010-12-16\n",
      "\n",
      "Frozen({'lon': 720, 'lat': 360, 'time': 696})\n",
      "Coordinates:\n",
      "  * lon      (lon) float64 -179.8 -179.2 -178.8 -178.2 ... 178.8 179.2 179.8\n",
      "  * lat      (lat) float64 -89.75 -89.25 -88.75 -88.25 ... 88.75 89.25 89.75\n",
      "  * time     (time) datetime64[ns] 1948-01-16 1948-02-15 ... 2005-12-16\n",
      "\n",
      "Frozen({'lon': 110, 'lat': 50, 'time': 696})\n",
      "Coordinates:\n",
      "  * lon      (lon) float64 -124.8 -124.2 -123.8 -123.2 ... -71.25 -70.75 -70.25\n",
      "  * lat      (lat) float64 25.25 25.75 26.25 26.75 ... 48.25 48.75 49.25 49.75\n",
      "  * time     (time) datetime64[ns] 1948-01-16 1948-02-15 ... 2005-12-16\n",
      "\n"
     ]
    }
   ],
   "source": [
    "files_list = glob.glob(rf\"/home/uditbhatia/Documents/Sarth/CRU_tmp/cru_ts3.23.*.tmp.dat.nc\")\n",
    "# files_list\n",
    "ds = xr.open_mfdataset(files_list,combine = 'by_coords')\n",
    "print(ds.dims)\n",
    "print(ds.coords)\n",
    "print()\n",
    "ds = ds.sel(time=((ds.time.dt.year >= 1948) & (ds.time.dt.year <= 2005)))\n",
    "print(ds.dims)\n",
    "print(ds.coords)\n",
    "print()\n",
    "ds = ds.sel(lat=slice(*lat_bnds), lon=slice(*lon_bnds))\n",
    "print(ds.dims)\n",
    "print(ds.coords)\n",
    "print()\n",
    "ds.to_netcdf(rf\"/home/uditbhatia/Documents/Sarth/Downscaling_AugmentedConvLSTM/03_Preprocess_Data/NC_Files/CRU_temp.nc\")\n",
    "print(\"****************************************************************************\")\n",
    "print()"
   ]
  },
  {
   "cell_type": "markdown",
   "metadata": {},
   "source": [
    "# CRU .npy Regridded"
   ]
  },
  {
   "cell_type": "code",
   "execution_count": 8,
   "metadata": {},
   "outputs": [],
   "source": [
    "ds = xr.open_dataset(r\"/home/uditbhatia/Documents/Sarth/Downscaling_AugmentedConvLSTM/03_Preprocess_Data/NC_Files/CRU_temp.nc\")\n",
    "dr = ds[\"tmp\"]\n",
    "ds_out = xr.Dataset(\n",
    "    {\n",
    "        \"lat\": ([\"lat\"], lat_lst),\n",
    "        \"lon\": ([\"lon\"], lon_lst),\n",
    "    }\n",
    ")\n",
    "regridder = xe.Regridder(ds, ds_out, \"bilinear\")\n",
    "dr_out = regridder(dr)\n",
    "dr_out = dr_out.fillna(0)\n",
    "dr_np = dr_out.to_numpy()\n",
    "np.save(\n",
    "    r\"/home/uditbhatia/Documents/Sarth/Downscaling_AugmentedConvLSTM/03_Preprocess_Data/npy_Files/CRU_temp.npy\", \n",
    "    dr_np\n",
    "    )"
   ]
  },
  {
   "cell_type": "markdown",
   "metadata": {},
   "source": [
    "# CMIP5 Data"
   ]
  },
  {
   "cell_type": "code",
   "execution_count": 9,
   "metadata": {},
   "outputs": [
    {
     "name": "stdout",
     "output_type": "stream",
     "text": [
      "GFDL-CM3: 13\n",
      "Frozen({'time': 732, 'bnds': 2, 'lat': 90, 'lon': 144})\n",
      "Coordinates:\n",
      "  * time     (time) object 1945-01-16 12:00:00 ... 2005-12-16 12:00:00\n",
      "  * lat      (lat) float64 -89.0 -87.0 -85.0 -83.0 -81.0 ... 83.0 85.0 87.0 89.0\n",
      "  * lon      (lon) float64 1.25 3.75 6.25 8.75 11.25 ... 351.2 353.8 356.2 358.8\n",
      "    height   float64 2.0\n",
      "\n",
      "Frozen({'time': 696, 'bnds': 2, 'lat': 90, 'lon': 144})\n",
      "Coordinates:\n",
      "  * time     (time) object 1948-01-16 12:00:00 ... 2005-12-16 12:00:00\n",
      "  * lat      (lat) float64 -89.0 -87.0 -85.0 -83.0 -81.0 ... 83.0 85.0 87.0 89.0\n",
      "  * lon      (lon) float64 1.25 3.75 6.25 8.75 11.25 ... 351.2 353.8 356.2 358.8\n",
      "    height   float64 2.0\n",
      "\n",
      "Frozen({'time': 696, 'bnds': 2, 'lat': 13, 'lon': 22})\n",
      "Coordinates:\n",
      "  * time     (time) object 1948-01-16 12:00:00 ... 2005-12-16 12:00:00\n",
      "  * lat      (lat) float64 25.0 27.0 29.0 31.0 33.0 ... 41.0 43.0 45.0 47.0 49.0\n",
      "  * lon      (lon) float64 236.2 238.8 241.2 243.8 ... 281.2 283.8 286.2 288.8\n",
      "    height   float64 2.0\n",
      "\n"
     ]
    },
    {
     "name": "stderr",
     "output_type": "stream",
     "text": [
      "/home/uditbhatia/anaconda3/envs/conda_esmf/lib/python3.7/site-packages/xarray/conventions.py:449: UserWarning: Variable 'time' has datetime type and a bounds variable but time.encoding does not have units specified. The units encodings for 'time' and 'time_bnds' will be determined independently and may not be equal, counter to CF-conventions. If this is a concern, specify a units encoding for 'time' before writing to a file.\n",
      "  UserWarning,\n"
     ]
    },
    {
     "name": "stdout",
     "output_type": "stream",
     "text": [
      "****************************************************************************\n",
      "\n",
      "MIROC-ESM: 1\n",
      "Frozen({'time': 1872, 'bnds': 2, 'lat': 64, 'lon': 128})\n",
      "Coordinates:\n",
      "  * time     (time) datetime64[ns] 1850-01-16T12:00:00 ... 2005-12-16T12:00:00\n",
      "  * lat      (lat) float64 -87.86 -85.1 -82.31 -79.53 ... 79.53 82.31 85.1 87.86\n",
      "  * lon      (lon) float64 0.0 2.812 5.625 8.438 ... 348.8 351.6 354.4 357.2\n",
      "    height   float64 ...\n",
      "\n",
      "Frozen({'time': 696, 'bnds': 2, 'lat': 64, 'lon': 128})\n",
      "Coordinates:\n",
      "  * time     (time) datetime64[ns] 1948-01-16T12:00:00 ... 2005-12-16T12:00:00\n",
      "  * lat      (lat) float64 -87.86 -85.1 -82.31 -79.53 ... 79.53 82.31 85.1 87.86\n",
      "  * lon      (lon) float64 0.0 2.812 5.625 8.438 ... 348.8 351.6 354.4 357.2\n",
      "    height   float64 ...\n",
      "\n",
      "Frozen({'time': 696, 'bnds': 2, 'lat': 9, 'lon': 20})\n",
      "Coordinates:\n",
      "  * time     (time) datetime64[ns] 1948-01-16T12:00:00 ... 2005-12-16T12:00:00\n",
      "  * lat      (lat) float64 26.51 29.3 32.09 34.88 37.67 40.46 43.25 46.04 48.84\n",
      "  * lon      (lon) float64 236.2 239.1 241.9 244.7 ... 281.2 284.1 286.9 289.7\n",
      "    height   float64 ...\n",
      "\n",
      "****************************************************************************\n",
      "\n",
      "CanESM2: 1\n",
      "Frozen({'time': 1872, 'bnds': 2, 'lat': 64, 'lon': 128})\n",
      "Coordinates:\n",
      "  * time     (time) object 1850-01-16 12:00:00 ... 2005-12-16 12:00:00\n",
      "  * lat      (lat) float64 -87.86 -85.1 -82.31 -79.53 ... 79.53 82.31 85.1 87.86\n",
      "  * lon      (lon) float64 0.0 2.812 5.625 8.438 ... 348.8 351.6 354.4 357.2\n",
      "    height   float64 ...\n",
      "\n",
      "Frozen({'time': 696, 'bnds': 2, 'lat': 64, 'lon': 128})\n",
      "Coordinates:\n",
      "  * time     (time) object 1948-01-16 12:00:00 ... 2005-12-16 12:00:00\n",
      "  * lat      (lat) float64 -87.86 -85.1 -82.31 -79.53 ... 79.53 82.31 85.1 87.86\n",
      "  * lon      (lon) float64 0.0 2.812 5.625 8.438 ... 348.8 351.6 354.4 357.2\n",
      "    height   float64 ...\n",
      "\n",
      "Frozen({'time': 696, 'bnds': 2, 'lat': 9, 'lon': 20})\n",
      "Coordinates:\n",
      "  * time     (time) object 1948-01-16 12:00:00 ... 2005-12-16 12:00:00\n",
      "  * lat      (lat) float64 26.51 29.3 32.09 34.88 37.67 40.46 43.25 46.04 48.84\n",
      "  * lon      (lon) float64 236.2 239.1 241.9 244.7 ... 281.2 284.1 286.9 289.7\n",
      "    height   float64 ...\n",
      "\n",
      "****************************************************************************\n",
      "\n"
     ]
    }
   ],
   "source": [
    "for model in ['GFDL-CM3', 'MIROC-ESM', 'CanESM2']:\n",
    "    files_list = glob.glob(rf\"/home/uditbhatia/Documents/Sarth/CMIP5_tmp/tas_Amon_{model}_historical_r1i1p1_*.nc\")\n",
    "    print(f\"{model}: {len(files_list)}\")\n",
    "    ds = xr.open_mfdataset(files_list,combine = 'by_coords')\n",
    "    print(ds.dims)\n",
    "    print(ds.coords)\n",
    "    print()\n",
    "    ds = ds.sel(time=((ds.time.dt.year >= 1948) & (ds.time.dt.year <= 2005)))\n",
    "    print(ds.dims)\n",
    "    print(ds.coords)\n",
    "    print()\n",
    "    ds = ds.sel(lat=slice(*lat_bnds), lon=slice(*[x%360 for x in lon_bnds]))\n",
    "    print(ds.dims)\n",
    "    print(ds.coords)\n",
    "    print()\n",
    "    ds.to_netcdf(rf\"/home/uditbhatia/Documents/Sarth/Downscaling_AugmentedConvLSTM/03_Preprocess_Data/NC_Files/{model}_mon_temp.nc\")\n",
    "    print(\"****************************************************************************\")\n",
    "    print()"
   ]
  },
  {
   "cell_type": "code",
   "execution_count": 11,
   "metadata": {},
   "outputs": [],
   "source": [
    "for model in ['GFDL-CM3', 'MIROC-ESM', 'CanESM2']:\n",
    "    ds = xr.open_dataset(rf\"/home/uditbhatia/Documents/Sarth/Downscaling_AugmentedConvLSTM/03_Preprocess_Data/NC_Files/{model}_mon_temp.nc\")\n",
    "    dr = ds[\"tas\"]\n",
    "    ds_out = xr.Dataset(\n",
    "        {\n",
    "            \"lat\": ([\"lat\"], lat_lst),\n",
    "            \"lon\": ([\"lon\"], [x%360 for x in lon_lst]),\n",
    "        }\n",
    "    )\n",
    "    regridder = xe.Regridder(ds, ds_out, \"bilinear\")\n",
    "    dr_out = regridder(dr)\n",
    "    dr_np = dr_out.to_numpy()\n",
    "    np.save(\n",
    "        rf\"/home/uditbhatia/Documents/Sarth/Downscaling_AugmentedConvLSTM/03_Preprocess_Data/npy_Files/{model}_mon_temp.npy\", \n",
    "        dr_np\n",
    "        )"
   ]
  },
  {
   "cell_type": "markdown",
   "metadata": {},
   "source": [
    "# Reanalysis Data"
   ]
  },
  {
   "cell_type": "code",
   "execution_count": 12,
   "metadata": {},
   "outputs": [
    {
     "data": {
      "text/plain": [
       "'\\nUsing that from CRU_01.ipynb\\n'"
      ]
     },
     "execution_count": 12,
     "metadata": {},
     "output_type": "execute_result"
    }
   ],
   "source": [
    "'''\n",
    "Using that from CRU_01.ipynb\n",
    "'''"
   ]
  },
  {
   "cell_type": "markdown",
   "metadata": {},
   "source": [
    "# Stacking"
   ]
  },
  {
   "cell_type": "code",
   "execution_count": 13,
   "metadata": {},
   "outputs": [],
   "source": [
    "CanESM2 = np.load(r\"/home/uditbhatia/Documents/Sarth/Downscaling_AugmentedConvLSTM/03_Preprocess_Data/npy_Files/CanESM2_mon_temp.npy\")\n",
    "MIROC_ESM = np.load(r\"/home/uditbhatia/Documents/Sarth/Downscaling_AugmentedConvLSTM/03_Preprocess_Data/npy_Files/MIROC-ESM_mon_temp.npy\")\n",
    "# HadGEM2_ES = np.load(r\"/home/uditbhatia/Documents/Sarth/Downscaling_AugmentedConvLSTM/03_Preprocess_Data/npy_Files/HadGEM2-ES_mon_temp.npy\")\n",
    "GFDL_CM3 = np.load(r\"/home/uditbhatia/Documents/Sarth/Downscaling_AugmentedConvLSTM/03_Preprocess_Data/npy_Files/GFDL-CM3_mon_temp.npy\")"
   ]
  },
  {
   "cell_type": "code",
   "execution_count": 14,
   "metadata": {},
   "outputs": [],
   "source": [
    "SRTM = np.load(r\"/home/uditbhatia/Documents/Sarth/Downscaling_AugmentedConvLSTM/03_Preprocess_Data/npy_Files/SRTM_US.npy\")\n",
    "SRTM = SRTM.reshape(1,51,111)\n",
    "elevation = np.ones((696,51,111))\n",
    "elevation = elevation*np.array(SRTM)"
   ]
  },
  {
   "cell_type": "code",
   "execution_count": 15,
   "metadata": {},
   "outputs": [],
   "source": [
    "rhum = np.load(r\"/home/uditbhatia/Documents/Sarth/Downscaling_AugmentedConvLSTM/03_Preprocess_Data/npy_Files/rhum_mon.npy\")\n",
    "pres = np.load(r\"/home/uditbhatia/Documents/Sarth/Downscaling_AugmentedConvLSTM/03_Preprocess_Data/npy_Files/pres_mon.npy\")\n",
    "uwnd = np.load(r\"/home/uditbhatia/Documents/Sarth/Downscaling_AugmentedConvLSTM/03_Preprocess_Data/npy_Files/uwnd_mon.npy\")\n",
    "vwnd = np.load(r\"/home/uditbhatia/Documents/Sarth/Downscaling_AugmentedConvLSTM/03_Preprocess_Data/npy_Files/vwnd_mon.npy\")\n",
    "omega = np.load(r\"/home/uditbhatia/Documents/Sarth/Downscaling_AugmentedConvLSTM/03_Preprocess_Data/npy_Files/omega_mon.npy\")"
   ]
  },
  {
   "cell_type": "code",
   "execution_count": 17,
   "metadata": {},
   "outputs": [],
   "source": [
    "X = np.zeros((7,696,129,135))\n",
    "X[0,:,39:90,12:123] = np.array(CanESM2)\n",
    "X[1,:,39:90,12:123] = np.array(elevation)\n",
    "X[2,:,39:90,12:123] = np.array(rhum)\n",
    "X[3,:,39:90,12:123] = np.array(pres)\n",
    "X[4,:,39:90,12:123] = np.array(uwnd)\n",
    "X[5,:,39:90,12:123] = np.array(vwnd)\n",
    "X[6,:,39:90,12:123] = np.array(omega)\n",
    "np.save(\n",
    "    r\"/home/uditbhatia/Documents/Sarth/Downscaling_AugmentedConvLSTM/03_Preprocess_Data/Stacked/CanESM2_mon_temp.npy\", \n",
    "    X\n",
    "    )"
   ]
  },
  {
   "cell_type": "code",
   "execution_count": 18,
   "metadata": {},
   "outputs": [],
   "source": [
    "X = np.zeros((7,696,129,135))\n",
    "X[0,:,39:90,12:123] = np.array(MIROC_ESM)\n",
    "X[1,:,39:90,12:123] = np.array(elevation)\n",
    "X[2,:,39:90,12:123] = np.array(rhum)\n",
    "X[3,:,39:90,12:123] = np.array(pres)\n",
    "X[4,:,39:90,12:123] = np.array(uwnd)\n",
    "X[5,:,39:90,12:123] = np.array(vwnd)\n",
    "X[6,:,39:90,12:123] = np.array(omega)\n",
    "np.save(\n",
    "    r\"/home/uditbhatia/Documents/Sarth/Downscaling_AugmentedConvLSTM/03_Preprocess_Data/Stacked/MIROC-ESM_mon_temp.npy\", \n",
    "    X\n",
    "    )"
   ]
  },
  {
   "cell_type": "code",
   "execution_count": 19,
   "metadata": {},
   "outputs": [],
   "source": [
    "X = np.zeros((7,696,129,135))\n",
    "X[0,:,39:90,12:123] = np.array(GFDL_CM3)\n",
    "X[1,:,39:90,12:123] = np.array(elevation)\n",
    "X[2,:,39:90,12:123] = np.array(rhum)\n",
    "X[3,:,39:90,12:123] = np.array(pres)\n",
    "X[4,:,39:90,12:123] = np.array(uwnd)\n",
    "X[5,:,39:90,12:123] = np.array(vwnd)\n",
    "X[6,:,39:90,12:123] = np.array(omega)\n",
    "np.save(\n",
    "    r\"/home/uditbhatia/Documents/Sarth/Downscaling_AugmentedConvLSTM/03_Preprocess_Data/Stacked/GFDL-CM3_mon_temp.npy\", \n",
    "    X\n",
    "    )"
   ]
  },
  {
   "cell_type": "code",
   "execution_count": 20,
   "metadata": {},
   "outputs": [
    {
     "data": {
      "text/plain": [
       "(696, 51, 111)"
      ]
     },
     "execution_count": 20,
     "metadata": {},
     "output_type": "execute_result"
    }
   ],
   "source": [
    "CRU_temp = np.load(r\"/home/uditbhatia/Documents/Sarth/Downscaling_AugmentedConvLSTM/03_Preprocess_Data/npy_Files/CRU_temp.npy\")\n",
    "CRU_temp.shape"
   ]
  },
  {
   "cell_type": "code",
   "execution_count": 21,
   "metadata": {},
   "outputs": [],
   "source": [
    "Y = np.zeros((1,696,129,135))\n",
    "Y[0,:,39:90,12:123] = np.array(CRU_temp)\n",
    "np.save(\n",
    "    r\"/home/uditbhatia/Documents/Sarth/Downscaling_AugmentedConvLSTM/03_Preprocess_Data/Stacked/Y_mon_temp.npy\", \n",
    "    Y\n",
    "    )"
   ]
  }
 ],
 "metadata": {
  "interpreter": {
   "hash": "57de0e282794bf4d91710c07791d8cdf5fdb41e6873170f2da5a7dded10f15a1"
  },
  "kernelspec": {
   "display_name": "Python 3.7.12 ('conda_esmf')",
   "language": "python",
   "name": "python3"
  },
  "language_info": {
   "codemirror_mode": {
    "name": "ipython",
    "version": 3
   },
   "file_extension": ".py",
   "mimetype": "text/x-python",
   "name": "python",
   "nbconvert_exporter": "python",
   "pygments_lexer": "ipython3",
   "version": "3.7.12"
  },
  "orig_nbformat": 4
 },
 "nbformat": 4,
 "nbformat_minor": 2
}
