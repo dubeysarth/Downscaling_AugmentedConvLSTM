{
 "cells": [
  {
   "cell_type": "code",
   "execution_count": 1,
   "metadata": {},
   "outputs": [],
   "source": [
    "import glob\n",
    "import netCDF4 as nc\n",
    "import pandas as pd\n",
    "import numpy as np\n",
    "import xarray as xr\n",
    "import xesmf as xe\n",
    "import cartopy.crs as ccrs\n",
    "import matplotlib.pyplot as plt\n",
    "import os"
   ]
  },
  {
   "cell_type": "code",
   "execution_count": 2,
   "metadata": {},
   "outputs": [
    {
     "name": "stdout",
     "output_type": "stream",
     "text": [
      "0.5 0.5\n",
      "51 111\n"
     ]
    }
   ],
   "source": [
    "lat_bnds, lon_bnds = [25, 50], [-125, -70]\n",
    "lat_lst = np.arange(lat_bnds[0], lat_bnds[1]+0.01, 0.5)\n",
    "lon_lst = np.arange(lon_bnds[0], lon_bnds[1]+0.01, 0.5)\n",
    "print(lat_lst[1]-lat_lst[0], lon_lst[1]-lon_lst[0])\n",
    "print(len(lat_lst), len(lon_lst))\n",
    "projection_dimension = [129, 135]"
   ]
  },
  {
   "cell_type": "markdown",
   "metadata": {},
   "source": [
    "# Stacking"
   ]
  },
  {
   "cell_type": "code",
   "execution_count": 9,
   "metadata": {},
   "outputs": [],
   "source": [
    "CanESM2 = np.load(r\"/home/uditbhatia/Documents/Sarth/Downscaling_AugmentedConvLSTM/03_Preprocess_Data/npy_Files/CanESM2_mon.npy\")\n",
    "MIROC_ESM = np.load(r\"/home/uditbhatia/Documents/Sarth/Downscaling_AugmentedConvLSTM/03_Preprocess_Data/npy_Files/MIROC-ESM_mon.npy\")\n",
    "HadGEM2_ES = np.load(r\"/home/uditbhatia/Documents/Sarth/Downscaling_AugmentedConvLSTM/03_Preprocess_Data/npy_Files/HadGEM2-ES_mon.npy\")\n",
    "GFDL_CM3 = np.load(r\"/home/uditbhatia/Documents/Sarth/Downscaling_AugmentedConvLSTM/03_Preprocess_Data/npy_Files/GFDL-CM3_mon.npy\")"
   ]
  },
  {
   "cell_type": "code",
   "execution_count": 8,
   "metadata": {},
   "outputs": [],
   "source": [
    "SRTM = np.load(r\"/home/uditbhatia/Documents/Sarth/Downscaling_AugmentedConvLSTM/03_Preprocess_Data/npy_Files/SRTM_US.npy\")\n",
    "SRTM = SRTM.reshape(1,51,111)\n",
    "elevation = np.ones((696,51,111))\n",
    "elevation = elevation*np.array(SRTM)"
   ]
  },
  {
   "cell_type": "code",
   "execution_count": 10,
   "metadata": {},
   "outputs": [],
   "source": [
    "rhum = np.load(r\"/home/uditbhatia/Documents/Sarth/Downscaling_AugmentedConvLSTM/03_Preprocess_Data/npy_Files/rhum_mon.npy\")\n",
    "pres = np.load(r\"/home/uditbhatia/Documents/Sarth/Downscaling_AugmentedConvLSTM/03_Preprocess_Data/npy_Files/pres_mon.npy\")\n",
    "uwnd = np.load(r\"/home/uditbhatia/Documents/Sarth/Downscaling_AugmentedConvLSTM/03_Preprocess_Data/npy_Files/uwnd_mon.npy\")\n",
    "vwnd = np.load(r\"/home/uditbhatia/Documents/Sarth/Downscaling_AugmentedConvLSTM/03_Preprocess_Data/npy_Files/vwnd_mon.npy\")\n",
    "omega = np.load(r\"/home/uditbhatia/Documents/Sarth/Downscaling_AugmentedConvLSTM/03_Preprocess_Data/npy_Files/omega_mon.npy\")"
   ]
  },
  {
   "cell_type": "code",
   "execution_count": 11,
   "metadata": {},
   "outputs": [
    {
     "name": "stdout",
     "output_type": "stream",
     "text": [
      "(696, 51, 111) (696, 51, 111) (696, 51, 111) (696, 51, 111)\n",
      "(696, 51, 111)\n",
      "(696, 51, 111) (696, 51, 111) (696, 51, 111) (696, 51, 111) (696, 51, 111)\n"
     ]
    }
   ],
   "source": [
    "print(CanESM2.shape, MIROC_ESM.shape, HadGEM2_ES.shape, GFDL_CM3.shape)\n",
    "print(elevation.shape)\n",
    "print(rhum.shape, pres.shape, uwnd.shape, vwnd.shape, omega.shape)"
   ]
  },
  {
   "cell_type": "code",
   "execution_count": 12,
   "metadata": {},
   "outputs": [],
   "source": [
    "'''\n",
    "Low_pr\n",
    "Elevation\n",
    "rhum\n",
    "pres\n",
    "uwnd\n",
    "vwnd\n",
    "omega\n",
    "(696, 51, 111)\n",
    "'''\n",
    "X = np.zeros((7,696,129,135))"
   ]
  },
  {
   "cell_type": "code",
   "execution_count": 13,
   "metadata": {},
   "outputs": [],
   "source": [
    "X = np.zeros((7,696,129,135))\n",
    "X[0,:,39:90,12:123] = np.array(CanESM2)\n",
    "X[1,:,39:90,12:123] = np.array(elevation)\n",
    "X[2,:,39:90,12:123] = np.array(rhum)\n",
    "X[3,:,39:90,12:123] = np.array(pres)\n",
    "X[4,:,39:90,12:123] = np.array(uwnd)\n",
    "X[5,:,39:90,12:123] = np.array(vwnd)\n",
    "X[6,:,39:90,12:123] = np.array(omega)\n",
    "np.save(\n",
    "    r\"/home/uditbhatia/Documents/Sarth/Downscaling_AugmentedConvLSTM/03_Preprocess_Data/Stacked/CanESM2_mon.npy\", \n",
    "    X\n",
    "    )"
   ]
  },
  {
   "cell_type": "code",
   "execution_count": 14,
   "metadata": {},
   "outputs": [],
   "source": [
    "X = np.zeros((7,696,129,135))\n",
    "X[0,:,39:90,12:123] = np.array(MIROC_ESM)\n",
    "X[1,:,39:90,12:123] = np.array(elevation)\n",
    "X[2,:,39:90,12:123] = np.array(rhum)\n",
    "X[3,:,39:90,12:123] = np.array(pres)\n",
    "X[4,:,39:90,12:123] = np.array(uwnd)\n",
    "X[5,:,39:90,12:123] = np.array(vwnd)\n",
    "X[6,:,39:90,12:123] = np.array(omega)\n",
    "np.save(\n",
    "    r\"/home/uditbhatia/Documents/Sarth/Downscaling_AugmentedConvLSTM/03_Preprocess_Data/Stacked/MIROC-ESM_mon.npy\", \n",
    "    X\n",
    "    )"
   ]
  },
  {
   "cell_type": "code",
   "execution_count": 15,
   "metadata": {},
   "outputs": [],
   "source": [
    "X = np.zeros((7,696,129,135))\n",
    "X[0,:,39:90,12:123] = np.array(HadGEM2_ES)\n",
    "X[1,:,39:90,12:123] = np.array(elevation)\n",
    "X[2,:,39:90,12:123] = np.array(rhum)\n",
    "X[3,:,39:90,12:123] = np.array(pres)\n",
    "X[4,:,39:90,12:123] = np.array(uwnd)\n",
    "X[5,:,39:90,12:123] = np.array(vwnd)\n",
    "X[6,:,39:90,12:123] = np.array(omega)\n",
    "np.save(\n",
    "    r\"/home/uditbhatia/Documents/Sarth/Downscaling_AugmentedConvLSTM/03_Preprocess_Data/Stacked/HadGEM2-ES_mon.npy\", \n",
    "    X\n",
    "    )"
   ]
  },
  {
   "cell_type": "code",
   "execution_count": 16,
   "metadata": {},
   "outputs": [],
   "source": [
    "X = np.zeros((7,696,129,135))\n",
    "X[0,:,39:90,12:123] = np.array(GFDL_CM3)\n",
    "X[1,:,39:90,12:123] = np.array(elevation)\n",
    "X[2,:,39:90,12:123] = np.array(rhum)\n",
    "X[3,:,39:90,12:123] = np.array(pres)\n",
    "X[4,:,39:90,12:123] = np.array(uwnd)\n",
    "X[5,:,39:90,12:123] = np.array(vwnd)\n",
    "X[6,:,39:90,12:123] = np.array(omega)\n",
    "np.save(\n",
    "    r\"/home/uditbhatia/Documents/Sarth/Downscaling_AugmentedConvLSTM/03_Preprocess_Data/Stacked/GFDL-CM3_mon.npy\", \n",
    "    X\n",
    "    )"
   ]
  },
  {
   "cell_type": "code",
   "execution_count": 17,
   "metadata": {},
   "outputs": [
    {
     "data": {
      "text/plain": [
       "(696, 51, 111)"
      ]
     },
     "execution_count": 17,
     "metadata": {},
     "output_type": "execute_result"
    }
   ],
   "source": [
    "CRU = np.load(r\"/home/uditbhatia/Documents/Sarth/Downscaling_AugmentedConvLSTM/03_Preprocess_Data/npy_Files/CRU.npy\")\n",
    "CRU.shape"
   ]
  },
  {
   "cell_type": "code",
   "execution_count": 18,
   "metadata": {},
   "outputs": [],
   "source": [
    "Y = np.zeros((1,696,129,135))\n",
    "Y[0,:,39:90,12:123] = np.array(CRU)\n",
    "np.save(\n",
    "    r\"/home/uditbhatia/Documents/Sarth/Downscaling_AugmentedConvLSTM/03_Preprocess_Data/Stacked/Y_mon.npy\", \n",
    "    Y\n",
    "    )"
   ]
  }
 ],
 "metadata": {
  "interpreter": {
   "hash": "57de0e282794bf4d91710c07791d8cdf5fdb41e6873170f2da5a7dded10f15a1"
  },
  "kernelspec": {
   "display_name": "Python 3.7.12 ('conda_esmf')",
   "language": "python",
   "name": "python3"
  },
  "language_info": {
   "codemirror_mode": {
    "name": "ipython",
    "version": 3
   },
   "file_extension": ".py",
   "mimetype": "text/x-python",
   "name": "python",
   "nbconvert_exporter": "python",
   "pygments_lexer": "ipython3",
   "version": "3.7.12"
  },
  "orig_nbformat": 4
 },
 "nbformat": 4,
 "nbformat_minor": 2
}
