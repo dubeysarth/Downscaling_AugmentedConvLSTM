{
 "cells": [
  {
   "cell_type": "code",
   "execution_count": 1,
   "metadata": {},
   "outputs": [],
   "source": [
    "import netCDF4 as nc\n",
    "import pandas as pd\n",
    "import numpy as np\n",
    "import xarray as xr\n",
    "# import cartopy.crs as ccrs\n",
    "import matplotlib.pyplot as plt\n",
    "import os\n",
    "\n",
    "# from Testing_Stacks import *"
   ]
  },
  {
   "cell_type": "code",
   "execution_count": 13,
   "metadata": {},
   "outputs": [],
   "source": [
    "lat_bnds, lon_bnds = [6.5, 38.5], [66.5, 100]\n",
    "projection_dimension = [129, 135]\n",
    "lat_lst = np.linspace(lat_bnds[0], lat_bnds[1], projection_dimension[0])\n",
    "lon_lst = np.linspace(lon_bnds[0], lon_bnds[1], projection_dimension[1])"
   ]
  },
  {
   "cell_type": "code",
   "execution_count": 14,
   "metadata": {},
   "outputs": [
    {
     "name": "stdout",
     "output_type": "stream",
     "text": [
      "21166\n",
      "20730\n",
      "21166\n",
      "21166\n"
     ]
    }
   ],
   "source": [
    "CanESM2 = xr.open_dataset(\"/home/uditbhatia/Documents/Sarth/Downscaling_AugmentedConvLSTM/03_Preprocess_Data/NC_Files/CanESM2.nc\")\n",
    "HadGEM2_ES = xr.open_dataset(\"/home/uditbhatia/Documents/Sarth/Downscaling_AugmentedConvLSTM/03_Preprocess_Data/NC_Files/HadGEM2-ES.nc\")\n",
    "MIROC_ESM = xr.open_dataset(\"/home/uditbhatia/Documents/Sarth/Downscaling_AugmentedConvLSTM/03_Preprocess_Data/NC_Files/MIROC-ESM.nc\")\n",
    "GFDL_CM3 = xr.open_dataset(\"/home/uditbhatia/Documents/Sarth/Downscaling_AugmentedConvLSTM/03_Preprocess_Data/NC_Files/GFDL-CM3.nc\")\n",
    "dates_CanESM2 = CanESM2.coords['time'].to_numpy()[4:]\n",
    "dates_HadGEM2_ES = HadGEM2_ES.coords['time'].to_numpy()[4:]\n",
    "dates_MIROC_ESM = MIROC_ESM.coords['time'].to_numpy()[4:]\n",
    "dates_GFDL_CM3 = GFDL_CM3.coords['time'].to_numpy()[4:]\n",
    "print(len(dates_CanESM2))\n",
    "print(len(dates_HadGEM2_ES))\n",
    "print(len(dates_MIROC_ESM))\n",
    "print(len(dates_GFDL_CM3))"
   ]
  },
  {
   "cell_type": "code",
   "execution_count": 15,
   "metadata": {},
   "outputs": [],
   "source": [
    "for gcm, dates, y in zip(['MIROC-ESM', 'HadGEM2-ES', 'GFDL-CM3', 'CanESM2'],[dates_MIROC_ESM, dates_HadGEM2_ES, dates_GFDL_CM3, dates_CanESM2], ['Y', 'Y_360', 'Y', 'Y']):\n",
    "    pr_values = np.load(rf\"/home/uditbhatia/Documents/Sarth/Downscaling_AugmentedConvLSTM/04_Testing_Stacks/npy_Files/yy_hat_{gcm}.npy\").reshape(-1,129,135)\n",
    "    Y = np.load(rf\"/home/uditbhatia/Documents/Sarth/Downscaling_AugmentedConvLSTM/03_Preprocess_Data/Stacked/{y}.npy\").reshape(-1,129,135)[4:]\n",
    "    pr_values = (pr_values*Y.std())+Y.mean()\n",
    "    ds = xr.Dataset({\n",
    "            'pr': xr.DataArray(\n",
    "                data = pr_values.reshape(len(dates), len(lat_lst), len(lon_lst)),\n",
    "                dims = ['time', 'lat', 'lon'],\n",
    "                coords = {\n",
    "                    'time': dates,\n",
    "                    'lat': lat_lst,\n",
    "                    'lon': lon_lst\n",
    "                },\n",
    "                attrs = {'units':'mm/day'}\n",
    "            )\n",
    "        }\n",
    "    )\n",
    "    ds.to_netcdf(rf\"/home/uditbhatia/Documents/Sarth/Downscaling_AugmentedConvLSTM/04_Testing_Stacks/NC_Files/Actual_{gcm}.nc\")"
   ]
  },
  {
   "cell_type": "code",
   "execution_count": 4,
   "metadata": {},
   "outputs": [],
   "source": [
    "lat_bnds, lon_bnds = [25, 50], [-125, -70]\n",
    "lat_lst = np.arange(lat_bnds[0], lat_bnds[1]+0.01, 0.5)\n",
    "lon_lst = np.arange(lon_bnds[0], lon_bnds[1]+0.01, 0.5)\n",
    "projection_dimension = [129, 135]"
   ]
  },
  {
   "cell_type": "code",
   "execution_count": 17,
   "metadata": {},
   "outputs": [
    {
     "name": "stdout",
     "output_type": "stream",
     "text": [
      "692\n",
      "691\n",
      "692\n",
      "692\n"
     ]
    }
   ],
   "source": [
    "CanESM2 = xr.open_dataset(\"/home/uditbhatia/Documents/Sarth/Downscaling_AugmentedConvLSTM/03_Preprocess_Data/NC_Files/CanESM2_mon.nc\")\n",
    "HadGEM2_ES = xr.open_dataset(\"/home/uditbhatia/Documents/Sarth/Downscaling_AugmentedConvLSTM/03_Preprocess_Data/NC_Files/HadGEM2-ES_mon.nc\")\n",
    "MIROC_ESM = xr.open_dataset(\"/home/uditbhatia/Documents/Sarth/Downscaling_AugmentedConvLSTM/03_Preprocess_Data/NC_Files/MIROC-ESM_mon.nc\")\n",
    "GFDL_CM3 = xr.open_dataset(\"/home/uditbhatia/Documents/Sarth/Downscaling_AugmentedConvLSTM/03_Preprocess_Data/NC_Files/GFDL-CM3_mon.nc\")\n",
    "dates_CanESM2 = CanESM2.coords['time'].to_numpy()[4:]\n",
    "dates_HadGEM2_ES = HadGEM2_ES.coords['time'].to_numpy()[4:]\n",
    "dates_MIROC_ESM = MIROC_ESM.coords['time'].to_numpy()[4:]\n",
    "dates_GFDL_CM3 = GFDL_CM3.coords['time'].to_numpy()[4:]\n",
    "print(len(dates_CanESM2))\n",
    "print(len(dates_HadGEM2_ES))\n",
    "print(len(dates_MIROC_ESM))\n",
    "print(len(dates_GFDL_CM3))"
   ]
  },
  {
   "cell_type": "code",
   "execution_count": 19,
   "metadata": {},
   "outputs": [],
   "source": [
    "for gcm, dates, y in zip(['MIROC-ESM', 'HadGEM2-ES', 'GFDL-CM3', 'CanESM2'],[dates_MIROC_ESM, dates_HadGEM2_ES, dates_GFDL_CM3, dates_CanESM2], ['Y', 'Y', 'Y', 'Y']):\n",
    "    pr_values = np.load(rf\"/home/uditbhatia/Documents/Sarth/Downscaling_AugmentedConvLSTM/04_Testing_Stacks/npy_Files/yy_hat_{gcm}_mon.npy\").reshape(-1,129,135)\n",
    "    Y = np.load(rf\"/home/uditbhatia/Documents/Sarth/Downscaling_AugmentedConvLSTM/03_Preprocess_Data/Stacked/{y}_mon.npy\").reshape(-1,129,135)[4:]\n",
    "    pr_values = (pr_values*Y.std())+Y.mean()\n",
    "    if gcm == 'HadGEM2-ES':\n",
    "        pr_values = np.array(pr_values[:-1,39:90,12:123])\n",
    "    else:\n",
    "        pr_values = np.array(pr_values[:,39:90,12:123])\n",
    "    ds = xr.Dataset({\n",
    "            'pr': xr.DataArray(\n",
    "                data = pr_values.reshape(len(dates), len(lat_lst), len(lon_lst)),\n",
    "                dims = ['time', 'lat', 'lon'],\n",
    "                coords = {\n",
    "                    'time': dates,\n",
    "                    'lat': lat_lst,\n",
    "                    'lon': [x%360 for x in lon_lst]\n",
    "                },\n",
    "                attrs = {'units':'mm/month'}\n",
    "            )\n",
    "        }\n",
    "    )\n",
    "    ds.to_netcdf(rf\"/home/uditbhatia/Documents/Sarth/Downscaling_AugmentedConvLSTM/04_Testing_Stacks/NC_Files/Actual_{gcm}_mon.nc\")"
   ]
  },
  {
   "cell_type": "code",
   "execution_count": 5,
   "metadata": {},
   "outputs": [
    {
     "name": "stdout",
     "output_type": "stream",
     "text": [
      "692\n",
      "691\n",
      "692\n",
      "692\n"
     ]
    }
   ],
   "source": [
    "CanESM2 = xr.open_dataset(\"/home/uditbhatia/Documents/Sarth/Downscaling_AugmentedConvLSTM/03_Preprocess_Data/NC_Files/CanESM2_mon_temp.nc\")\n",
    "HadGEM2_ES = xr.open_dataset(\"/home/uditbhatia/Documents/Sarth/Downscaling_AugmentedConvLSTM/03_Preprocess_Data/NC_Files/HadGEM2-ES_mon_temp.nc\")\n",
    "MIROC_ESM = xr.open_dataset(\"/home/uditbhatia/Documents/Sarth/Downscaling_AugmentedConvLSTM/03_Preprocess_Data/NC_Files/MIROC-ESM_mon_temp.nc\")\n",
    "GFDL_CM3 = xr.open_dataset(\"/home/uditbhatia/Documents/Sarth/Downscaling_AugmentedConvLSTM/03_Preprocess_Data/NC_Files/GFDL-CM3_mon_temp.nc\")\n",
    "dates_CanESM2 = CanESM2.coords['time'].to_numpy()[4:]\n",
    "dates_HadGEM2_ES = HadGEM2_ES.coords['time'].to_numpy()[4:]\n",
    "dates_MIROC_ESM = MIROC_ESM.coords['time'].to_numpy()[4:]\n",
    "dates_GFDL_CM3 = GFDL_CM3.coords['time'].to_numpy()[4:]\n",
    "print(len(dates_CanESM2))\n",
    "print(len(dates_HadGEM2_ES))\n",
    "print(len(dates_MIROC_ESM))\n",
    "print(len(dates_GFDL_CM3))"
   ]
  },
  {
   "cell_type": "code",
   "execution_count": 6,
   "metadata": {},
   "outputs": [],
   "source": [
    "for gcm, dates, y in zip(['MIROC-ESM', 'HadGEM2-ES', 'GFDL-CM3', 'CanESM2'],[dates_MIROC_ESM, dates_HadGEM2_ES, dates_GFDL_CM3, dates_CanESM2], ['Y', 'Y', 'Y', 'Y']):\n",
    "    pr_values = np.load(rf\"/home/uditbhatia/Documents/Sarth/Downscaling_AugmentedConvLSTM/04_Testing_Stacks/npy_Files/yy_hat_{gcm}_mon_temp.npy\").reshape(-1,129,135)\n",
    "    Y = np.load(rf\"/home/uditbhatia/Documents/Sarth/Downscaling_AugmentedConvLSTM/03_Preprocess_Data/Stacked/{y}_mon_temp.npy\").reshape(-1,129,135)[4:]\n",
    "    pr_values = (pr_values*Y.std())+Y.mean()\n",
    "    if gcm == 'HadGEM2-ES':\n",
    "        pr_values = np.array(pr_values[:-1,39:90,12:123])\n",
    "    else:\n",
    "        pr_values = np.array(pr_values[:,39:90,12:123])\n",
    "    ds = xr.Dataset({\n",
    "            'pr': xr.DataArray(\n",
    "                data = pr_values.reshape(len(dates), len(lat_lst), len(lon_lst)),\n",
    "                dims = ['time', 'lat', 'lon'],\n",
    "                coords = {\n",
    "                    'time': dates,\n",
    "                    'lat': lat_lst,\n",
    "                    'lon': [x%360 for x in lon_lst]\n",
    "                },\n",
    "                attrs = {'units':'degrees Celsius'}\n",
    "            )\n",
    "        }\n",
    "    )\n",
    "    ds.to_netcdf(rf\"/home/uditbhatia/Documents/Sarth/Downscaling_AugmentedConvLSTM/04_Testing_Stacks/NC_Files/Actual_{gcm}_mon_temp.nc\")"
   ]
  },
  {
   "cell_type": "code",
   "execution_count": null,
   "metadata": {},
   "outputs": [],
   "source": []
  }
 ],
 "metadata": {
  "kernelspec": {
   "display_name": "Python 3.7.12 ('conda_esmf')",
   "language": "python",
   "name": "python3"
  },
  "language_info": {
   "codemirror_mode": {
    "name": "ipython",
    "version": 3
   },
   "file_extension": ".py",
   "mimetype": "text/x-python",
   "name": "python",
   "nbconvert_exporter": "python",
   "pygments_lexer": "ipython3",
   "version": "3.7.12"
  },
  "orig_nbformat": 4,
  "vscode": {
   "interpreter": {
    "hash": "57de0e282794bf4d91710c07791d8cdf5fdb41e6873170f2da5a7dded10f15a1"
   }
  }
 },
 "nbformat": 4,
 "nbformat_minor": 2
}
