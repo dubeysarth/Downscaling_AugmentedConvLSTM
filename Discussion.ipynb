{
 "cells": [
  {
   "cell_type": "code",
   "execution_count": 1,
   "metadata": {},
   "outputs": [],
   "source": [
    "import pandas as pd\n",
    "import numpy as np\n",
    "import itertools\n",
    "import xarray as xr"
   ]
  },
  {
   "cell_type": "code",
   "execution_count": 2,
   "metadata": {},
   "outputs": [
    {
     "name": "stdout",
     "output_type": "stream",
     "text": [
      "Years having leap days: [1948, 1952, 1956, 1960, 1964, 1968, 1972, 1976, 1980, 1984, 1988, 1992, 1996, 2000, 2004]\n",
      "#Leap Days = 15\n"
     ]
    }
   ],
   "source": [
    "f = lambda year: year % 4 == 0 and (year % 100 != 0 or year % 400 == 0)\n",
    "cnt = 0\n",
    "yr_lst = []\n",
    "for i in range(1948,2005+1):\n",
    "    if f(i):\n",
    "        cnt+= 1\n",
    "        yr_lst.append(i)\n",
    "print(f\"Years having leap days: {yr_lst}\")\n",
    "print(f\"#Leap Days = {cnt}\")\n",
    "\n",
    "del f, cnt, yr_lst, i"
   ]
  },
  {
   "cell_type": "code",
   "execution_count": 3,
   "metadata": {},
   "outputs": [
    {
     "name": "stdout",
     "output_type": "stream",
     "text": [
      "Number of days in the date range: 21185\n",
      "Number of days excluding leap days: 21170\n"
     ]
    }
   ],
   "source": [
    "dr = pd.date_range(start = '1948-01-01', end = '2005-12-31' ) # 21185\n",
    "print(f\"Number of days in the date range: {len(dr)}\")\n",
    "dr = dr[(dr.day != 29) | (dr.month != 2)] # 21170\n",
    "print(f\"Number of days excluding leap days: {len(dr)}\")\n",
    "# Difference between the two is 15 leap days\n",
    "\n",
    "del dr"
   ]
  },
  {
   "cell_type": "code",
   "execution_count": 4,
   "metadata": {},
   "outputs": [
    {
     "name": "stdout",
     "output_type": "stream",
     "text": [
      "Number of years: 58\n",
      "360_day datetime format: 20880 Days (GCMs: HadGEM2-ES)\n",
      "NoLeap or 365_day datetime format: 21170 Days (GCMs: MIROC-ESM, CanESM2, GFDL-CM3)\n",
      "\n",
      "HadGEM2-ES daily data is till Novmber-2005 (2005-11-30) and not December-2005 (2005-12-30)\n",
      "HadGEM2-ES #Days = 20850 days\n",
      "Additionally, Feb-30 is an incompatiple date that doesn't exist within the reanalysis data, so we remove them along with the leap days (Feb-29)\n",
      "*********************************************************\n",
      "Finally,\n",
      "HadGEM2-ES #Days = 20734 days\n",
      "MIROC-ESM, CanESM2, GFDL-CM3 #Days = 21170 days\n",
      "*********************************************************\n"
     ]
    }
   ],
   "source": [
    "Num_of_years = len(np.arange(1948,2005+1))\n",
    "print(f\"Number of years: {Num_of_years}\")\n",
    "\n",
    "print(f\"360_day datetime format: {Num_of_years*360} Days (GCMs: HadGEM2-ES)\") # 1 Month is missing\n",
    "print(f\"NoLeap or 365_day datetime format: {Num_of_years*365} Days (GCMs: MIROC-ESM, CanESM2, GFDL-CM3)\")\n",
    "print()\n",
    "print(\"HadGEM2-ES daily data is till Novmber-2005 (2005-11-30) and not December-2005 (2005-12-30)\")\n",
    "print(f\"HadGEM2-ES #Days = {Num_of_years*360 - 30} days\")\n",
    "print(\"Additionally, Feb-30 is an incompatiple date that doesn't exist within the reanalysis data, so we remove them along with the leap days (Feb-29)\")\n",
    "print(\"*********************************************************\")\n",
    "print(\"Finally,\")\n",
    "print(f\"HadGEM2-ES #Days = {Num_of_years*360 - 30 - Num_of_years*2} days\")\n",
    "print(f\"MIROC-ESM, CanESM2, GFDL-CM3 #Days = {Num_of_years*365} days\")\n",
    "print(\"*********************************************************\")\n",
    "\n",
    "del Num_of_years"
   ]
  },
  {
   "cell_type": "code",
   "execution_count": 4,
   "metadata": {},
   "outputs": [
    {
     "name": "stdout",
     "output_type": "stream",
     "text": [
      "CanESM2: (7, 21170, 129, 135)\n",
      "GFDL-CM3: (7, 21170, 129, 135)\n",
      "HadGEM2-ES: (7, 20734, 129, 135)\n",
      "MIROC-ESM: (7, 21170, 129, 135)\n"
     ]
    }
   ],
   "source": [
    "'''\n",
    "CanESM2: (7, 21170, 129, 135)\n",
    "GFDL-CM3: (7, 21170, 129, 135)\n",
    "HadGEM2-ES: (7, 20734, 129, 135)\n",
    "MIROC-ESM: (7, 21170, 129, 135)\n",
    "'''\n",
    "CanESM2 = np.load(r\"/home/uditbhatia/Documents/Sarth/Downscaling_AugmentedConvLSTM/03_Preprocess_Data/Stacked/CanESM2.npy\")\n",
    "GFDL_CM3 = np.load(r\"/home/uditbhatia/Documents/Sarth/Downscaling_AugmentedConvLSTM/03_Preprocess_Data/Stacked/GFDL-CM3.npy\")\n",
    "HadGEM2_ES = np.load(r\"/home/uditbhatia/Documents/Sarth/Downscaling_AugmentedConvLSTM/03_Preprocess_Data/Stacked/HadGEM2-ES.npy\")\n",
    "MIROC_ESM = np.load(r\"/home/uditbhatia/Documents/Sarth/Downscaling_AugmentedConvLSTM/03_Preprocess_Data/Stacked/MIROC-ESM.npy\")\n",
    "print(f\"CanESM2: {CanESM2.shape}\")\n",
    "print(f\"GFDL-CM3: {GFDL_CM3.shape}\")\n",
    "print(f\"HadGEM2-ES: {HadGEM2_ES.shape}\")\n",
    "print(f\"MIROC-ESM: {MIROC_ESM.shape}\")"
   ]
  },
  {
   "cell_type": "code",
   "execution_count": 5,
   "metadata": {},
   "outputs": [
    {
     "name": "stdout",
     "output_type": "stream",
     "text": [
      "Y: (1, 21170, 129, 135)\n",
      "Y_360: (1, 20734, 129, 135)\n"
     ]
    }
   ],
   "source": [
    "'''\n",
    "Y: (1, 21170, 129, 135)\n",
    "Y_360: (1, 20734, 129, 135)\n",
    "'''\n",
    "Y = np.load(r\"/home/uditbhatia/Documents/Sarth/Downscaling_AugmentedConvLSTM/03_Preprocess_Data/Stacked/Y.npy\")\n",
    "Y_360 = np.load(r\"/home/uditbhatia/Documents/Sarth/Downscaling_AugmentedConvLSTM/03_Preprocess_Data/Stacked/Y_360.npy\")\n",
    "print(f\"Y: {Y.shape}\")\n",
    "print(f\"Y_360: {Y_360.shape}\")"
   ]
  },
  {
   "cell_type": "code",
   "execution_count": 2,
   "metadata": {},
   "outputs": [],
   "source": [
    "import tensorflow.keras.preprocessing as prep\n",
    "def data_generator(X,Y):\n",
    "    time_steps = 4\n",
    "    batch_size1 = 1\n",
    "    generator = prep.sequence.TimeseriesGenerator(\n",
    "        X, \n",
    "        Y.reshape(-1, 129, 135, 1),\n",
    "        length=time_steps, \n",
    "        batch_size=batch_size1\n",
    "        )\n",
    "    return generator"
   ]
  },
  {
   "cell_type": "code",
   "execution_count": 7,
   "metadata": {},
   "outputs": [
    {
     "name": "stdout",
     "output_type": "stream",
     "text": [
      "CanESM2: 21166\n",
      "GFDL-CM3: 21166\n",
      "HadGEM2-ES: 20730\n",
      "MIROC-ESM: 21166\n"
     ]
    }
   ],
   "source": [
    "for xx, yy, name in zip([CanESM2, GFDL_CM3, HadGEM2_ES, MIROC_ESM], [Y, Y, Y_360, Y], ['CanESM2', 'GFDL-CM3', 'HadGEM2-ES', 'MIROC-ESM']):\n",
    "    X = xx.transpose(1,2,3,0)\n",
    "    YY = yy.reshape(-1,129, 135, 1)\n",
    "    generator = data_generator(X,YY) # (1, 4, 129, 135, 7) (1, 129, 135, 1)\n",
    "    cnt = 0\n",
    "    for x, y in itertools.islice(generator, 0, None, 1):\n",
    "        cnt += 1\n",
    "    print(f\"{name}: {cnt}\")\n",
    "del X, YY, generator, cnt, x, y, xx, yy"
   ]
  },
  {
   "cell_type": "code",
   "execution_count": 8,
   "metadata": {},
   "outputs": [],
   "source": [
    "del CanESM2, GFDL_CM3, HadGEM2_ES, MIROC_ESM, Y, Y_360"
   ]
  },
  {
   "cell_type": "code",
   "execution_count": 9,
   "metadata": {},
   "outputs": [
    {
     "name": "stdout",
     "output_type": "stream",
     "text": [
      "(1, 4) (1,)\n",
      "[[1 2 3 4]]\n",
      "[5]\n",
      "(1, 4) (1,)\n",
      "[[2 3 4 5]]\n",
      "[6]\n"
     ]
    }
   ],
   "source": [
    "X = np.arange(1,100+1)\n",
    "Y = np.arange(1,100+1)\n",
    "def data_generator(X,Y):\n",
    "    time_steps = 4\n",
    "    batch_size1 = 1\n",
    "    generator = prep.sequence.TimeseriesGenerator(\n",
    "        X, \n",
    "        Y,\n",
    "        length=time_steps, \n",
    "        batch_size=batch_size1\n",
    "        )\n",
    "    return generator\n",
    "\n",
    "generator = data_generator(X,Y)\n",
    "for x, y in itertools.islice(generator, 0, 2, 1):\n",
    "    print(x.shape, y.shape)\n",
    "    print(x)\n",
    "    print(y)\n",
    "\n",
    "del X, Y, generator, x, y"
   ]
  },
  {
   "cell_type": "code",
   "execution_count": 36,
   "metadata": {},
   "outputs": [
    {
     "name": "stdout",
     "output_type": "stream",
     "text": [
      "Y: (21166, 129, 135); Y_hat: (21166, 129, 135)\n"
     ]
    }
   ],
   "source": [
    "Y_hat = np.load(r\"/home/uditbhatia/Documents/Sarth/Downscaling_AugmentedConvLSTM/04_Testing_Stacks/npy_Files/yy_hat_MIROC-ESM.npy\").reshape(-1,129,135)\n",
    "Y = np.load(r\"/home/uditbhatia/Documents/Sarth/Downscaling_AugmentedConvLSTM/03_Preprocess_Data/Stacked/Y.npy\").reshape(-1,129,135)[4:]\n",
    "print(f\"Y: {Y.shape}; Y_hat: {Y_hat.shape}\")"
   ]
  },
  {
   "cell_type": "code",
   "execution_count": 37,
   "metadata": {},
   "outputs": [
    {
     "data": {
      "image/png": "[encoded data removed]",
      "text/plain": [
       "<Figure size 432x288 with 1 Axes>"
      ]
     },
     "metadata": {
      "needs_background": "light"
     },
     "output_type": "display_data"
    }
   ],
   "source": [
    "plt.boxplot(Y.flatten(), vert = False)\n",
    "plt.show()"
   ]
  },
  {
   "cell_type": "code",
   "execution_count": 38,
   "metadata": {},
   "outputs": [],
   "source": [
    "Y = Y - Y.mean()\n",
    "Y = Y / Y.std()"
   ]
  },
  {
   "cell_type": "code",
   "execution_count": 39,
   "metadata": {},
   "outputs": [
    {
     "data": {
      "image/png": "[encoded data removed]",
      "text/plain": [
       "<Figure size 432x288 with 1 Axes>"
      ]
     },
     "metadata": {
      "needs_background": "light"
     },
     "output_type": "display_data"
    }
   ],
   "source": [
    "plt.boxplot(Y.flatten(), vert = False)\n",
    "plt.show()"
   ]
  },
  {
   "cell_type": "code",
   "execution_count": 40,
   "metadata": {},
   "outputs": [
    {
     "name": "stderr",
     "output_type": "stream",
     "text": [
      "100%|██████████| 21166/21166 [00:09<00:00, 2154.46it/s]"
     ]
    },
    {
     "name": "stdout",
     "output_type": "stream",
     "text": [
      "21166\n"
     ]
    },
    {
     "name": "stderr",
     "output_type": "stream",
     "text": [
      "\n"
     ]
    }
   ],
   "source": [
    "from tqdm import tqdm\n",
    "rmse = np.zeros((129,135))\n",
    "rmse_hist = np.zeros((21166,129,135))\n",
    "for ind in tqdm(range(21166)):\n",
    "    yy_pred = Y_hat[ind].reshape(129,135)\n",
    "    yy = Y[ind].reshape(129,135)\n",
    "    rmse += np.square(yy - yy_pred)\n",
    "    rmse_hist[ind] = np.sqrt(rmse/(ind+1))\n",
    "rmse = np.sqrt(rmse/ind+1)\n",
    "print(ind+1)"
   ]
  },
  {
   "cell_type": "code",
   "execution_count": 42,
   "metadata": {},
   "outputs": [
    {
     "data": {
      "text/plain": [
       "(129, 135)"
      ]
     },
     "execution_count": 42,
     "metadata": {},
     "output_type": "execute_result"
    }
   ],
   "source": [
    "Y_diff = np.sqrt(np.sum(np.square(Y - Y_hat), axis = 0)/21166)\n",
    "Y_diff.shape"
   ]
  },
  {
   "cell_type": "code",
   "execution_count": 43,
   "metadata": {},
   "outputs": [
    {
     "data": {
      "image/png": "[encoded data removed]",
      "text/plain": [
       "<Figure size 1440x720 with 3 Axes>"
      ]
     },
     "metadata": {
      "needs_background": "light"
     },
     "output_type": "display_data"
    }
   ],
   "source": [
    "import matplotlib.pyplot as plt\n",
    "import seaborn as sns\n",
    "\n",
    "# rrmse = rmse_hist[-1]\n",
    "rrmse = np.array(Y_diff)\n",
    "FileName = r\"/home/uditbhatia/Documents/Sarth/Downscaling_AugmentedConvLSTM/03_Preprocess_Data/npy_Files/SRTM.npy\"\n",
    "mask = np.load(FileName)\n",
    "indices = np.where(mask == 0)\n",
    "rrmse[indices] = np.nan\n",
    "fig,ax = plt.subplots(1,2, figsize = (20,10))\n",
    "sns.heatmap(np.flip(rrmse, axis = 0), cmap = 'rainbow', ax =ax[0])\n",
    "ax[0].axis('off')\n",
    "ax[1].boxplot(rrmse[~np.isnan(rrmse)], vert = False)\n",
    "plt.show()"
   ]
  },
  {
   "cell_type": "code",
   "execution_count": 21,
   "metadata": {},
   "outputs": [
    {
     "name": "stdout",
     "output_type": "stream",
     "text": [
      "mm/day\n"
     ]
    }
   ],
   "source": [
    "ds = xr.open_dataset(r\"/home/uditbhatia/Documents/Sarth/Downscaling_AugmentedConvLSTM/03_Preprocess_Data/NC_Files/IMD.nc\")\n",
    "print(ds.rain.units)\n",
    "del ds"
   ]
  },
  {
   "cell_type": "code",
   "execution_count": 16,
   "metadata": {},
   "outputs": [
    {
     "name": "stdout",
     "output_type": "stream",
     "text": [
      "4.2406795e-05 7.3909694e-05\n"
     ]
    }
   ],
   "source": [
    "X = np.load(r\"/home/uditbhatia/Documents/Sarth/Downscaling_AugmentedConvLSTM/03_Preprocess_Data/npy_Files/MIROC-ESM.npy\")\n",
    "print(X.mean(), X.std())"
   ]
  },
  {
   "cell_type": "code",
   "execution_count": 22,
   "metadata": {},
   "outputs": [
    {
     "name": "stdout",
     "output_type": "stream",
     "text": [
      "0.3701965 1.3832935\n"
     ]
    }
   ],
   "source": [
    "Y = np.load(r\"/home/uditbhatia/Documents/Sarth/Downscaling_AugmentedConvLSTM/04_Testing_Stacks/npy_Files/yy_hat_MIROC-ESM.npy\").reshape(-1,129,135)\n",
    "print(Y.mean(), Y.std())"
   ]
  },
  {
   "cell_type": "code",
   "execution_count": 23,
   "metadata": {},
   "outputs": [
    {
     "name": "stdout",
     "output_type": "stream",
     "text": [
      "2.736114e-05 0.00010223901\n"
     ]
    }
   ],
   "source": [
    "Z = np.array(Y)*X.std()\n",
    "print(Z.mean(), Z.std())"
   ]
  }
 ],
 "metadata": {
  "kernelspec": {
   "display_name": "Python 3.7.12 ('Sarth-tf')",
   "language": "python",
   "name": "python3"
  },
  "language_info": {
   "codemirror_mode": {
    "name": "ipython",
    "version": 3
   },
   "file_extension": ".py",
   "mimetype": "text/x-python",
   "name": "python",
   "nbconvert_exporter": "python",
   "pygments_lexer": "ipython3",
   "version": "3.7.12"
  },
  "orig_nbformat": 4,
  "vscode": {
   "interpreter": {
    "hash": "7045c220f384a918686f71b3c00acdc45661fbf73a30bf379cbbfb71cfa47811"
   }
  }
 },
 "nbformat": 4,
 "nbformat_minor": 2
}
